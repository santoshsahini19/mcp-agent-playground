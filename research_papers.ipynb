{
 "cells": [
  {
   "cell_type": "markdown",
   "metadata": {},
   "source": [
    "### Goal of this notebook is to create tools which can be used in the MCP workflow to help retrieve the top research papers based on user input"
   ]
  },
  {
   "cell_type": "code",
   "execution_count": 2,
   "metadata": {},
   "outputs": [
    {
     "data": {
      "text/plain": [
       "True"
      ]
     },
     "execution_count": 2,
     "metadata": {},
     "output_type": "execute_result"
    }
   ],
   "source": [
    "import pandas\n",
    "from google import genai\n",
    "from google.genai import types # type definitions and configurations\n",
    "import arxiv\n",
    "from typing import List\n",
    "\n",
    "import os\n",
    "from dotenv import load_dotenv\n",
    "load_dotenv()"
   ]
  },
  {
   "cell_type": "code",
   "execution_count": 10,
   "metadata": {},
   "outputs": [],
   "source": [
    "def search_research_papers(topic: str, max_results: int = 5) -> List[str]:\n",
    "    \"\"\"\n",
    "    Search for papers on arXiv based on a topic and store their information.\n",
    "    \n",
    "    Args:\n",
    "        topic: The topic to search for\n",
    "        max_results: Maximum number of results to retrieve (default: 5)\n",
    "        \n",
    "    Returns:\n",
    "        List of paper IDs found in the search\n",
    "    \"\"\"\n",
    "    \n",
    "    # Use arxiv to find the papers \n",
    "    client = arxiv.Client()\n",
    "\n",
    "    # Search for the most relevant articles matching the queried topic\n",
    "    search = arxiv.Search(\n",
    "        query = topic,\n",
    "        max_results = max_results,\n",
    "        sort_by = arxiv.SortCriterion.Relevance\n",
    "    )\n",
    "    \n",
    "    # retrieve search results\n",
    "    papers = client.results(search)\n",
    "\n",
    "    # Process each paper and add to papers_info  \n",
    "    paper_ids = []\n",
    "    for paper in papers:\n",
    "        paper_ids.append(paper.get_short_id())\n",
    "        paper_info = {\n",
    "            'title': paper.title,\n",
    "            'authors': [author.name for author in paper.authors],\n",
    "            'pdf_url': paper.pdf_url,\n",
    "            'published': str(paper.published.date())\n",
    "        }\n",
    "        print(paper_info)\n",
    "    \n",
    "    return papers"
   ]
  },
  {
   "cell_type": "code",
   "execution_count": 11,
   "metadata": {},
   "outputs": [
    {
     "name": "stdout",
     "output_type": "stream",
     "text": [
      "{'title': 'Physical Artificial Intelligence: The Concept Expansion of Next-Generation Artificial Intelligence', 'authors': ['Yingbo Li', 'Yucong Duan', 'Anamaria-Beatrice Spulber', 'Haoyang Che', 'Zakaria Maamar', 'Zhao Li', 'Chen Yang', 'Yu lei'], 'pdf_url': 'http://arxiv.org/pdf/2105.06564v2', 'published': '2021-05-13'}\n",
      "{'title': 'First Analysis of the EU Artifical Intelligence Act: Towards a Global Standard for Trustworthy AI?', 'authors': ['Marion Ho-Dac'], 'pdf_url': 'http://arxiv.org/pdf/2408.08318v1', 'published': '2024-07-31'}\n",
      "{'title': 'Bringing order into the realm of Transformer-based language models for artificial intelligence and law', 'authors': ['Candida M. Greco', 'Andrea Tagarelli'], 'pdf_url': 'http://arxiv.org/pdf/2308.05502v2', 'published': '2023-08-10'}\n",
      "{'title': 'Part-of-Speech-Tagging using morphological information', 'authors': ['Bernd Ludwig'], 'pdf_url': 'http://arxiv.org/pdf/cmp-lg/9606005v1', 'published': '1996-06-04'}\n",
      "{'title': 'CLAUDETTE: an Automated Detector of Potentially Unfair Clauses in Online Terms of Service', 'authors': ['Marco Lippi', 'Przemyslaw Palka', 'Giuseppe Contissa', 'Francesca Lagioia', 'Hans-Wolfgang Micklitz', 'Giovanni Sartor', 'Paolo Torroni'], 'pdf_url': 'http://arxiv.org/pdf/1805.01217v2', 'published': '2018-05-03'}\n"
     ]
    }
   ],
   "source": [
    "x = search_research_papers(\"artifical intelligence\")"
   ]
  },
  {
   "cell_type": "code",
   "execution_count": null,
   "metadata": {},
   "outputs": [],
   "source": []
  }
 ],
 "metadata": {
  "kernelspec": {
   "display_name": "Python 3.11.5 ('mcp': venv)",
   "language": "python",
   "name": "python3"
  },
  "language_info": {
   "codemirror_mode": {
    "name": "ipython",
    "version": 3
   },
   "file_extension": ".py",
   "mimetype": "text/x-python",
   "name": "python",
   "nbconvert_exporter": "python",
   "pygments_lexer": "ipython3",
   "version": "3.11.5"
  },
  "orig_nbformat": 4,
  "vscode": {
   "interpreter": {
    "hash": "26283d8beff5d64d963f128c223d709beb597ba2fe460a420c8922b6b1cf8a7d"
   }
  }
 },
 "nbformat": 4,
 "nbformat_minor": 2
}
